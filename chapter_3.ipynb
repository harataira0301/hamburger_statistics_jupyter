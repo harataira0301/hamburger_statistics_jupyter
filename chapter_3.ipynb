{
 "cells": [
  {
   "cell_type": "markdown",
   "metadata": {},
   "source": [
    "# 3. カイ２乗検定\n",
    "\n",
    "## 3.1　チキンの売り上げは少ないのか\n",
    "\n",
    "- URL : http://kogolab.chillout.jp/elearn/hamburger/chap3/sec1.html\n",
    "- テーマ\n",
    "   1. 行列の作成\n",
    "    - 二次元の行列を手作成する\n",
    "    - 行/列にそれぞれラベルを付ける\n",
    "    - 縦方向、横方向の合計値を計算し、データフレームに連結する\n",
    "        - 追加する要素にもラベルを付ける(行、列)\n",
    "   2. 行列の計算\n",
    "    - この計算により期待度数を求める\n",
    "- その他\n",
    "    - テーマ1、2でセルを分けて実行する"
   ]
  },
  {
   "cell_type": "code",
   "execution_count": 34,
   "metadata": {
    "collapsed": false
   },
   "outputs": [
    {
     "data": {
      "text/html": [
       "<div>\n",
       "<table border=\"1\" class=\"dataframe\">\n",
       "  <thead>\n",
       "    <tr style=\"text-align: right;\">\n",
       "      <th></th>\n",
       "      <th>chicken</th>\n",
       "      <th>potato</th>\n",
       "      <th>sum_store</th>\n",
       "    </tr>\n",
       "  </thead>\n",
       "  <tbody>\n",
       "    <tr>\n",
       "      <th>sum_product</th>\n",
       "      <td>300</td>\n",
       "      <td>700</td>\n",
       "      <td>1000</td>\n",
       "    </tr>\n",
       "  </tbody>\n",
       "</table>\n",
       "</div>"
      ],
      "text/plain": [
       "             chicken  potato  sum_store\n",
       "sum_product      300     700       1000"
      ]
     },
     "execution_count": 34,
     "metadata": {},
     "output_type": "execute_result"
    }
   ],
   "source": [
    "%matplotlib inline\n",
    "import numpy as np\n",
    "import pandas as pd\n",
    "import matplotlib.pyplot as plt\n",
    "from scipy import stats\n",
    "import math\n",
    "\n",
    "# テーマ1 : 行列の作成\n",
    "## 観測度数用データフレーム作成\n",
    "\n",
    "# 行、列のラベル指定\n",
    "row_list = ['wakwak', 'mogmog']\n",
    "column_list = ['potato', 'chicken']\n",
    "\n",
    "# 手書きでデータを入力\n",
    "freq_observed = pd.DataFrame({column_list[0]: [435, 265],\n",
    "                              column_list[1]: [165, 135]},\n",
    "                              index=row_list)\n",
    "\n",
    "# sumも加えた一覧データ(雛形)\n",
    "freq_observed_all = freq_observed\n",
    "\n",
    "# 横方向の合計値を算出＆名前付け＆DataFrameに連結(右側)\n",
    "sum_store         = pd.DataFrame(freq_observed_all.sum(axis=1), columns = ['sum_store'])\n",
    "freq_observed_all = pd.concat([freq_observed_all, sum_store], axis=1)\n",
    "\n",
    "# 縦方向の合計値を算出＆名前付け＆DataFrameに連結(下側)\n",
    "sum_product       = pd.DataFrame(freq_observed_all.sum(axis=0), columns = ['sum_product']).T\n",
    "freq_observed_all = pd.concat([freq_observed_all, sum_product], axis=0)\n",
    "\n",
    "# 表示\n",
    "freq_observed_all\n",
    "#freq_observed"
   ]
  },
  {
   "cell_type": "code",
   "execution_count": 2,
   "metadata": {
    "collapsed": false
   },
   "outputs": [
    {
     "data": {
      "text/html": [
       "<div>\n",
       "<table border=\"1\" class=\"dataframe\">\n",
       "  <thead>\n",
       "    <tr style=\"text-align: right;\">\n",
       "      <th></th>\n",
       "      <th>chicken</th>\n",
       "      <th>potato</th>\n",
       "      <th>sum_store</th>\n",
       "    </tr>\n",
       "  </thead>\n",
       "  <tbody>\n",
       "    <tr>\n",
       "      <th>wakwak</th>\n",
       "      <td>180.0</td>\n",
       "      <td>420.0</td>\n",
       "      <td>600</td>\n",
       "    </tr>\n",
       "    <tr>\n",
       "      <th>mogmog</th>\n",
       "      <td>120.0</td>\n",
       "      <td>280.0</td>\n",
       "      <td>400</td>\n",
       "    </tr>\n",
       "    <tr>\n",
       "      <th>sum_product</th>\n",
       "      <td>300.0</td>\n",
       "      <td>700.0</td>\n",
       "      <td>1000</td>\n",
       "    </tr>\n",
       "  </tbody>\n",
       "</table>\n",
       "</div>"
      ],
      "text/plain": [
       "             chicken  potato  sum_store\n",
       "wakwak         180.0   420.0        600\n",
       "mogmog         120.0   280.0        400\n",
       "sum_product    300.0   700.0       1000"
      ]
     },
     "execution_count": 2,
     "metadata": {},
     "output_type": "execute_result"
    }
   ],
   "source": [
    "# テーマ2 : 行列の計算\n",
    "## 期待度数用データフレーム作成\n",
    "\n",
    "# sum_storeとsum_pdoductを乗算\n",
    "freq_expected = (sum_store.dot(sum_product.drop('sum_store', axis=1).values)/1000)\n",
    "\n",
    "# 列名付け直し\n",
    "freq_expected.columns = sum_product.drop('sum_store', axis=1).columns.values\n",
    "\n",
    "# sumも加えた一覧データ(雛形)\n",
    "freq_expected_all = freq_expected\n",
    "\n",
    "# sum_store, sum_productを連結\n",
    "freq_expected_all = pd.concat([freq_expected_all, sum_store], axis=1)\n",
    "freq_expected_all = pd.concat([freq_expected_all, sum_product], axis=0)\n",
    "\n",
    "# 表示\n",
    "freq_expected_all\n",
    "#freq_expected"
   ]
  },
  {
   "cell_type": "markdown",
   "metadata": {},
   "source": [
    "## 3.2　カイ２乗値とカイ２乗分布\n",
    "\n",
    "- URL : http://kogolab.chillout.jp/elearn/hamburger/chap3/sec2.html\n",
    "- テーマ\n",
    "   1. 読み物オンリーページ\n",
    "   \n",
    "## 3.3　カイ２乗検定\n",
    "\n",
    "- URL : http://kogolab.chillout.jp/elearn/hamburger/chap3/sec3.html\n",
    "- テーマ\n",
    "   1. カイ2乗値を求める\n",
    "    - 3.1章で作成した観測度数と期待度数から、カイ2乗値を算出する\n",
    "    - 算出にはscipyの関数を用いる\n",
    "   2. p値を求める\n",
    "    - 算出したカイ2乗値から、現象が起こり得る確率を求める(累積分布関数を使用)\n",
    "    - 参考URL : http://tanihito.hatenablog.com/entry/20101030/1288943347\n",
    "- その他\n",
    "    - scipy.stats.chi2の参考 : https://docs.scipy.org/doc/scipy-0.18.1/reference/generated/scipy.stats.chi2.html"
   ]
  },
  {
   "cell_type": "code",
   "execution_count": 3,
   "metadata": {
    "collapsed": false
   },
   "outputs": [
    {
     "name": "stdout",
     "output_type": "stream",
     "text": [
      "chi2_val =  4.46428571429\n",
      "p_val    =  0.0346105575157\n"
     ]
    }
   ],
   "source": [
    "# カイ2乗値の算出：行単位(wakwak/mogmog)\n",
    "chisquare_list = stats.chisquare(freq_observed, f_exp = freq_expected)\n",
    "\n",
    "# 行単位で計算されたカイ2乗値を加算する\n",
    "chi2_val = chisquare_list.statistic.sum()\n",
    "\n",
    "# p値を算出する(自由度=(2-1)*(2-1)=1)\n",
    "# cdf = 累積分布関数\n",
    "df = 1\n",
    "p_val = 1 - stats.chi2.cdf(chi2_val, df)\n",
    "\n",
    "# 表示\n",
    "print('chi2_val = ',chi2_val)\n",
    "print('p_val    = ',p_val)"
   ]
  },
  {
   "cell_type": "markdown",
   "metadata": {},
   "source": [
    "## 3.4　実践編：ハンバーガーを入れてみる\n",
    "\n",
    "- URL : http://kogolab.chillout.jp/elearn/hamburger/chap3/sec4.html\n",
    "- テーマ\n",
    "   1. 関数を作成する\n",
    "    - 行列の期待度数作成用関数\n",
    "    - 行列のカイ2乗値、p値を算出する関数\n",
    "   2. 作成した関数の使用\n",
    "    - 観測度数データから期待度数作成→カイ2乗値、p値を算出"
   ]
  },
  {
   "cell_type": "code",
   "execution_count": 48,
   "metadata": {
    "collapsed": false
   },
   "outputs": [
    {
     "name": "stdout",
     "output_type": "stream",
     "text": [
      "chi2_val =  9.90476190476\n",
      "p_val    =  0.00706656373146\n"
     ]
    }
   ],
   "source": [
    "# 観測度数元データ\n",
    "freq_o_1 = pd.DataFrame({'potato'   : [435, 265],\n",
    "                         'chicken'  : [165, 135],\n",
    "                         'hamburger': [650, 350]},\n",
    "                         index=['wakwak', 'mogmog'])\n",
    "\n",
    "# 期待度数作成用関数\n",
    "def calc_freq_expected(freq_o):\n",
    "    sum_row = pd.DataFrame(freq_o.sum(axis=1), columns = ['sum_row'])\n",
    "    sum_column = pd.DataFrame(freq_o.sum(axis=0), columns = ['sum_column']).T\n",
    "    sum_val       = sum_row.sum()\n",
    "    \n",
    "    freq_e = (sum_row.dot(sum_column.values)/sum_val.values)\n",
    "    freq_e.columns = sum_column.columns.values   \n",
    "    return freq_e\n",
    "\n",
    "# カイ2乗値、p値算出用関数\n",
    "def calc_chisquare(freq_o, freq_e):\n",
    "    df = (freq_e.shape[0] - 1) * (freq_e.shape[1] - 1)\n",
    "    chisquare_list = stats.chisquare(freq_o, f_exp = freq_e)\n",
    "    chi2_val = chisquare_list.statistic.sum()\n",
    "    p_val = 1 - stats.chi2.cdf(chi2_val, df)\n",
    "    return chi2_val, p_val\n",
    "\n",
    "# 関数の使用\n",
    "freq_e_1    = calc_freq_expected(freq_o_1)\n",
    "chi2_list_1 = calc_chisquare(freq_o_1, freq_e_1)\n",
    "\n",
    "# 表示\n",
    "print('chi2_val = ', chi2_list_1[0])\n",
    "print('p_val    = ', chi2_list_1[1])"
   ]
  },
  {
   "cell_type": "markdown",
   "metadata": {},
   "source": [
    "## 3.9　通過テスト\n",
    "\n",
    "- URL : http://kogolab.chillout.jp/elearn/hamburger/chap3/sec9.html\n",
    "- テーマ\n",
    "   1. 関数の使用\n",
    "       - 1つ上で作成した関数を別のセルで実行する"
   ]
  },
  {
   "cell_type": "code",
   "execution_count": 46,
   "metadata": {
    "collapsed": false
   },
   "outputs": [
    {
     "name": "stdout",
     "output_type": "stream",
     "text": [
      "chi2_val =  4.48351648352\n",
      "p_val    =  0.0342232366228\n"
     ]
    }
   ],
   "source": [
    "# 観測度数元データ\n",
    "freq_o_2 = pd.DataFrame({'sakura'   : [24, 8],\n",
    "                         'momo'     : [18, 18]},\n",
    "                         index=['kokugo', 'sansuu'])\n",
    "\n",
    "# 関数の使用\n",
    "freq_e_2    = calc_freq_expected(freq_o_2)\n",
    "chi2_list_2 = calc_chisquare(freq_o_2, freq_e_2)\n",
    "\n",
    "# 表示\n",
    "print('chi2_val = ', chi2_list_2[0])\n",
    "print('p_val    = ', chi2_list_2[1])"
   ]
  }
 ],
 "metadata": {
  "anaconda-cloud": {},
  "kernelspec": {
   "display_name": "Python [conda env:jupyter]",
   "language": "python",
   "name": "conda-env-jupyter-py"
  },
  "language_info": {
   "codemirror_mode": {
    "name": "ipython",
    "version": 3
   },
   "file_extension": ".py",
   "mimetype": "text/x-python",
   "name": "python",
   "nbconvert_exporter": "python",
   "pygments_lexer": "ipython3",
   "version": "3.5.2"
  }
 },
 "nbformat": 4,
 "nbformat_minor": 1
}
