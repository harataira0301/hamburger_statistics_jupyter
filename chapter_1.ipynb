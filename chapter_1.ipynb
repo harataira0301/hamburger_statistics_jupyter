{
 "cells": [
  {
   "cell_type": "markdown",
   "metadata": {},
   "source": [
    "# 1.平均と分散\n",
    "\n",
    "## 1.1　ポテトの長さの平均は\n",
    "\n",
    "- URL : http://kogolab.chillout.jp/elearn/hamburger/chap1/sec1.html\n",
    "- テーマ\n",
    "   1. csvファイルの読み込み\n",
    "   2. DataFrameの取扱い\n",
    "    - 特定の列だけ抽出\n",
    "    - 表形式で表示(jupyter notebook)\n",
    "   3. 統計量の算出\n",
    "    - 平均値、(不偏)標準偏差、四分位点等"
   ]
  },
  {
   "cell_type": "code",
   "execution_count": 2,
   "metadata": {
    "collapsed": false
   },
   "outputs": [
    {
     "data": {
      "text/html": [
       "<div>\n",
       "<table border=\"1\" class=\"dataframe\">\n",
       "  <thead>\n",
       "    <tr style=\"text-align: right;\">\n",
       "      <th></th>\n",
       "      <th>length_wak</th>\n",
       "      <th>length_mog</th>\n",
       "    </tr>\n",
       "  </thead>\n",
       "  <tbody>\n",
       "    <tr>\n",
       "      <th>count</th>\n",
       "      <td>49.000000</td>\n",
       "      <td>49.000000</td>\n",
       "    </tr>\n",
       "    <tr>\n",
       "      <th>mean</th>\n",
       "      <td>4.571429</td>\n",
       "      <td>4.614286</td>\n",
       "    </tr>\n",
       "    <tr>\n",
       "      <th>std</th>\n",
       "      <td>0.833667</td>\n",
       "      <td>1.624423</td>\n",
       "    </tr>\n",
       "    <tr>\n",
       "      <th>min</th>\n",
       "      <td>2.800000</td>\n",
       "      <td>0.800000</td>\n",
       "    </tr>\n",
       "    <tr>\n",
       "      <th>25%</th>\n",
       "      <td>3.900000</td>\n",
       "      <td>3.300000</td>\n",
       "    </tr>\n",
       "    <tr>\n",
       "      <th>50%</th>\n",
       "      <td>4.400000</td>\n",
       "      <td>4.500000</td>\n",
       "    </tr>\n",
       "    <tr>\n",
       "      <th>75%</th>\n",
       "      <td>5.200000</td>\n",
       "      <td>5.800000</td>\n",
       "    </tr>\n",
       "    <tr>\n",
       "      <th>max</th>\n",
       "      <td>6.400000</td>\n",
       "      <td>7.700000</td>\n",
       "    </tr>\n",
       "  </tbody>\n",
       "</table>\n",
       "</div>"
      ],
      "text/plain": [
       "       length_wak  length_mog\n",
       "count   49.000000   49.000000\n",
       "mean     4.571429    4.614286\n",
       "std      0.833667    1.624423\n",
       "min      2.800000    0.800000\n",
       "25%      3.900000    3.300000\n",
       "50%      4.400000    4.500000\n",
       "75%      5.200000    5.800000\n",
       "max      6.400000    7.700000"
      ]
     },
     "execution_count": 2,
     "metadata": {},
     "output_type": "execute_result"
    }
   ],
   "source": [
    "%matplotlib inline\n",
    "import numpy as np\n",
    "import pandas as pd\n",
    "import matplotlib.pyplot as plt\n",
    "\n",
    "# csvからデータの読み込み\n",
    "dataset_wak = pd.read_csv('./data/chapter1-1_wak.csv', names=('num', 'length_wak') )\n",
    "dataset_mog = pd.read_csv('./data/chapter1-1_mog.csv', names=('num', 'length_mog') )\n",
    "\n",
    "# lengthだけ抽出して別のデータフレームに格納\n",
    "df_wak_length = dataset_wak.length_wak\n",
    "df_mog_length = dataset_mog.length_mog\n",
    "\n",
    "# 試しにlengthを1つのDataFrameに纏めてみる\n",
    "df_length = pd.concat([df_wak_length, df_mog_length], axis=1)\n",
    "\n",
    "# デフォルトで出せる統計量を表示\n",
    "#df_length.mean()\n",
    "df_length.describe()"
   ]
  },
  {
   "cell_type": "markdown",
   "metadata": {},
   "source": [
    "## 1.2　度数分布\n",
    "\n",
    "- URL : http://kogolab.chillout.jp/elearn/hamburger/chap1/sec2.html\n",
    "- テーマ\n",
    "   1. matplotlibによるヒストグラムの作成\n",
    "    - 複数のグラフを1つの図に入れる\n",
    "    - grid表示\n",
    "    - 横軸固定\n",
    "    - 色指定(半透明(=alpha)含む)\n",
    "    - binsの指定"
   ]
  },
  {
   "cell_type": "code",
   "execution_count": 3,
   "metadata": {
    "collapsed": false
   },
   "outputs": [
    {
     "data": {
      "text/plain": [
       "(array([  0.,   1.,   2.,  12.,   9.,   9.,   9.,   4.,   3.]),\n",
       " array([-0.5,  0.5,  1.5,  2.5,  3.5,  4.5,  5.5,  6.5,  7.5,  8.5]),\n",
       " <a list of 9 Patch objects>)"
      ]
     },
     "execution_count": 3,
     "metadata": {},
     "output_type": "execute_result"
    },
    {
     "data": {
      "image/png": "[encoded data removed]",
      "text/plain": [
       "<matplotlib.figure.Figure at 0x7f20d4ab3be0>"
      ]
     },
     "metadata": {},
     "output_type": "display_data"
    }
   ],
   "source": [
    "# gridの表示\n",
    "plt.grid()\n",
    "\n",
    "# ヒストグラムの本数\n",
    "bins_num = 9\n",
    "\n",
    "# 横軸の固定\n",
    "plt.xlim([0.5, 8.5])\n",
    "\n",
    "# 半透明で重ねる\n",
    "plt.hist(df_wak_length, bins=bins_num, range=(-0.5, 8.5), color = 'red', alpha=0.5)\n",
    "plt.hist(df_mog_length, bins=bins_num, range=(-0.5, 8.5), color = 'blue', alpha=0.5)\n",
    "\n",
    "# 横に並べる\n",
    "#plt.hist([df_wak_length, df_mog_length],  bins=bins_num, range=(-0.5, 8.5), color = ['red', 'blue'])"
   ]
  },
  {
   "cell_type": "markdown",
   "metadata": {},
   "source": [
    "## 1.3　ばらつきを数字にする\n",
    "- URL : http://kogolab.chillout.jp/elearn/hamburger/chap1/sec3.html\n",
    "- テーマ\n",
    "   1. 読み物オンリーページ\n",
    "\n",
    "\n",
    "## 1.4　分散と標準偏差\n",
    "\n",
    "- URL : http://kogolab.chillout.jp/elearn/hamburger/chap1/sec4.html\n",
    "- テーマ\n",
    "   1. 分散の算出\n",
    "    - 分散は.var()で求めることが出来る\n",
    "        - ただし、pandasのデフォルトは不偏分散であることに注意する\n",
    "        - 標本分散を求める場合は「ddof=0」を指定する\n",
    "        - \"ddof\"は自由度を指定するためのオプション(default=1のため、不偏分散になる。0を設定で標本分散)\n",
    "   2. 標準偏差の算出\n",
    "    - 標準偏差は.std()で求めることが出来る\n",
    "        - 分散と同様に、デフォルトは不偏標準偏差。\n",
    "        - 標本標準偏差を求める場合は、分散と同様に「ddof=0」を指定する"
   ]
  },
  {
   "cell_type": "code",
   "execution_count": 4,
   "metadata": {
    "collapsed": false
   },
   "outputs": [
    {
     "data": {
      "text/html": [
       "<div>\n",
       "<table border=\"1\" class=\"dataframe\">\n",
       "  <thead>\n",
       "    <tr style=\"text-align: right;\">\n",
       "      <th></th>\n",
       "      <th>var_unbiased</th>\n",
       "      <th>var_sample</th>\n",
       "      <th>std_unbiased</th>\n",
       "      <th>std_sample</th>\n",
       "    </tr>\n",
       "  </thead>\n",
       "  <tbody>\n",
       "    <tr>\n",
       "      <th>length_wak</th>\n",
       "      <td>0.69500</td>\n",
       "      <td>0.680816</td>\n",
       "      <td>0.833667</td>\n",
       "      <td>0.825116</td>\n",
       "    </tr>\n",
       "    <tr>\n",
       "      <th>length_mog</th>\n",
       "      <td>2.63875</td>\n",
       "      <td>2.584898</td>\n",
       "      <td>1.624423</td>\n",
       "      <td>1.607762</td>\n",
       "    </tr>\n",
       "  </tbody>\n",
       "</table>\n",
       "</div>"
      ],
      "text/plain": [
       "            var_unbiased  var_sample  std_unbiased  std_sample\n",
       "length_wak       0.69500    0.680816      0.833667    0.825116\n",
       "length_mog       2.63875    2.584898      1.624423    1.607762"
      ]
     },
     "execution_count": 4,
     "metadata": {},
     "output_type": "execute_result"
    }
   ],
   "source": [
    "# 不偏分散\n",
    "var_unbiased = df_length.var()\n",
    "\n",
    "# 標本分散\n",
    "var_sample = df_length.var(ddof=0)\n",
    "\n",
    "# 不偏標準偏差\n",
    "std_unbiased = df_length.std()\n",
    "\n",
    "# 標本標準偏差\n",
    "std_sample = df_length.std(ddof=0)\n",
    "\n",
    "# 並べて表形式で表示\n",
    "var_std_list = pd.concat([var_unbiased, var_sample, std_unbiased, std_sample],  axis=1)\n",
    "var_std_list.columns = ['var_unbiased', 'var_sample', 'std_unbiased', 'std_sample']\n",
    "var_std_list"
   ]
  },
  {
   "cell_type": "markdown",
   "metadata": {},
   "source": [
    "## 1.5　実践編：チキンでいこう\n",
    "\n",
    "- URL : http://kogolab.chillout.jp/elearn/hamburger/chap1/sec5.html\n",
    "- テーマ\n",
    "   1. csvファイルの読み込み\n",
    "     - 1ファイルに3列以上のデータが入っている場合の取り扱い\n",
    "   2. DataFrameの取り扱い\n",
    "     - 特定の列だけ削除(.drop)\n",
    "         - 特定の行だけ削除する場合は'axis=1'が不要。かつ行数を指定する。\n",
    "   3. 統計量算出のまとめ\n",
    "     - 平均、分散、標準偏差"
   ]
  },
  {
   "cell_type": "code",
   "execution_count": 8,
   "metadata": {
    "collapsed": false
   },
   "outputs": [
    {
     "data": {
      "text/html": [
       "<div>\n",
       "<table border=\"1\" class=\"dataframe\">\n",
       "  <thead>\n",
       "    <tr style=\"text-align: right;\">\n",
       "      <th></th>\n",
       "      <th>chichken_mean</th>\n",
       "      <th>chicken_var</th>\n",
       "      <th>chicken_std</th>\n",
       "    </tr>\n",
       "  </thead>\n",
       "  <tbody>\n",
       "    <tr>\n",
       "      <th>weight_wak</th>\n",
       "      <td>146.3125</td>\n",
       "      <td>56.339844</td>\n",
       "      <td>7.505987</td>\n",
       "    </tr>\n",
       "    <tr>\n",
       "      <th>weight_mog</th>\n",
       "      <td>149.4375</td>\n",
       "      <td>260.621094</td>\n",
       "      <td>16.143763</td>\n",
       "    </tr>\n",
       "  </tbody>\n",
       "</table>\n",
       "</div>"
      ],
      "text/plain": [
       "            chichken_mean  chicken_var  chicken_std\n",
       "weight_wak       146.3125    56.339844     7.505987\n",
       "weight_mog       149.4375   260.621094    16.143763"
      ]
     },
     "execution_count": 8,
     "metadata": {},
     "output_type": "execute_result"
    }
   ],
   "source": [
    "# csvからデータの読み込み\n",
    "dataset_weight = pd.read_csv('./data/chapter1-5_chicken.csv', names=('num', 'weight_wak', 'weight_mog') )\n",
    "\n",
    "# 読み込んだデータからnum列を削除\n",
    "dataset_weight = dataset_weight.drop('num', axis=1)\n",
    "\n",
    "# 平均、標本分散、標本標準偏差を算出\n",
    "chicken_mean = dataset_weight.mean()\n",
    "chicken_var = dataset_weight.var(ddof=0)\n",
    "chicken_std = dataset_weight.std(ddof=0)\n",
    "\n",
    "# 上で求めた統計量を纏めて表にする\n",
    "chichen_stat_list = pd.concat([chicken_mean, chicken_var, chicken_std], axis=1)\n",
    "chichen_stat_list.columns = ['chichken_mean', 'chicken_var', 'chicken_std']\n",
    "chichen_stat_list"
   ]
  },
  {
   "cell_type": "markdown",
   "metadata": {},
   "source": [
    "## 1.9　通過テスト\n",
    "\n",
    "- URL : http://kogolab.chillout.jp/elearn/hamburger/chap1/sec9.html\n",
    "- テーマ\n",
    "    - 下記の理解度チェック\n",
    "       1. csvファイルの読み込み\n",
    "           - 特に、1行目にヘッダーとして列名が記載されているcsvを読み込む場合の処理\n",
    "       2. DataFrameの取り扱い\n",
    "       3. 統計量算出\n"
   ]
  },
  {
   "cell_type": "code",
   "execution_count": 7,
   "metadata": {
    "collapsed": false
   },
   "outputs": [
    {
     "data": {
      "text/html": [
       "<div>\n",
       "<table border=\"1\" class=\"dataframe\">\n",
       "  <thead>\n",
       "    <tr style=\"text-align: right;\">\n",
       "      <th></th>\n",
       "      <th>practice_mean</th>\n",
       "      <th>practice_var</th>\n",
       "      <th>practice_std</th>\n",
       "    </tr>\n",
       "  </thead>\n",
       "  <tbody>\n",
       "    <tr>\n",
       "      <th>sakura</th>\n",
       "      <td>70.0</td>\n",
       "      <td>58.153846</td>\n",
       "      <td>7.625867</td>\n",
       "    </tr>\n",
       "    <tr>\n",
       "      <th>momo</th>\n",
       "      <td>70.0</td>\n",
       "      <td>26.923077</td>\n",
       "      <td>5.188745</td>\n",
       "    </tr>\n",
       "    <tr>\n",
       "      <th>yanagi</th>\n",
       "      <td>57.0</td>\n",
       "      <td>26.923077</td>\n",
       "      <td>5.188745</td>\n",
       "    </tr>\n",
       "  </tbody>\n",
       "</table>\n",
       "</div>"
      ],
      "text/plain": [
       "        practice_mean  practice_var  practice_std\n",
       "sakura           70.0     58.153846      7.625867\n",
       "momo             70.0     26.923077      5.188745\n",
       "yanagi           57.0     26.923077      5.188745"
      ]
     },
     "execution_count": 7,
     "metadata": {},
     "output_type": "execute_result"
    }
   ],
   "source": [
    "# csvからデータの読み込み(先頭行はヘッダーとして認識される)\n",
    "dataset_practice = pd.read_csv('./data/chapter1-9.csv')\n",
    "\n",
    "# 以下の記述でcsvを読むと、ヘッダー行も値として読み込まれるため、統計量が正常に算出出来ない\n",
    "#dataset_practice = pd.read_csv('chapter1-9.csv', names=('num', 'sakura', 'momo', 'yanagi') )\n",
    "\n",
    "# 読み込んだデータからnum列を削除\n",
    "dataset_practice = dataset_practice.drop('num', axis=1)\n",
    "\n",
    "# 平均、標本分散、標本標準偏差を算出\n",
    "practice_mean = dataset_practice.mean()\n",
    "practice_var  = dataset_practice.var(ddof=0)\n",
    "practice_std  = dataset_practice.std(ddof=0)\n",
    "\n",
    "# 上で求めた統計量を纏めて表にする\n",
    "practice_stat_list = pd.concat([practice_mean, practice_var, practice_std], axis=1)\n",
    "practice_stat_list.columns = ['practice_mean', 'practice_var', 'practice_std']\n",
    "practice_stat_list"
   ]
  }
 ],
 "metadata": {
  "anaconda-cloud": {},
  "kernelspec": {
   "display_name": "Python [conda env:jupyter]",
   "language": "python",
   "name": "conda-env-jupyter-py"
  },
  "language_info": {
   "codemirror_mode": {
    "name": "ipython",
    "version": 3
   },
   "file_extension": ".py",
   "mimetype": "text/x-python",
   "name": "python",
   "nbconvert_exporter": "python",
   "pygments_lexer": "ipython3",
   "version": "3.5.2"
  }
 },
 "nbformat": 4,
 "nbformat_minor": 1
}
