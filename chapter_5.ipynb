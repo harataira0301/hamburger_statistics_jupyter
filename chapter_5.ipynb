{
 "cells": [
  {
   "cell_type": "markdown",
   "metadata": {},
   "source": [
    "# 5.　t検定（対応あり）\n",
    "\n",
    "## 5.1　１人に２種類を評価してもらう\n",
    "\n",
    "- URL : http://kogolab.chillout.jp/elearn/hamburger/chap5/sec1.html\n",
    "- テーマ\n",
    "   1. これまでの復習\n",
    "    - csvファイルの読み込み\n",
    "    - 統計量の算出(平均値、標本分散)\n",
    "    - 転置行列への変換"
   ]
  },
  {
   "cell_type": "code",
   "execution_count": 3,
   "metadata": {
    "collapsed": false
   },
   "outputs": [
    {
     "data": {
      "text/html": [
       "<div>\n",
       "<table border=\"1\" class=\"dataframe\">\n",
       "  <thead>\n",
       "    <tr style=\"text-align: right;\">\n",
       "      <th></th>\n",
       "      <th>wakwak</th>\n",
       "      <th>mogmog</th>\n",
       "    </tr>\n",
       "  </thead>\n",
       "  <tbody>\n",
       "    <tr>\n",
       "      <th>mean</th>\n",
       "      <td>76.875000</td>\n",
       "      <td>81.2500</td>\n",
       "    </tr>\n",
       "    <tr>\n",
       "      <th>var</th>\n",
       "      <td>43.359375</td>\n",
       "      <td>35.9375</td>\n",
       "    </tr>\n",
       "  </tbody>\n",
       "</table>\n",
       "</div>"
      ],
      "text/plain": [
       "         wakwak   mogmog\n",
       "mean  76.875000  81.2500\n",
       "var   43.359375  35.9375"
      ]
     },
     "execution_count": 3,
     "metadata": {},
     "output_type": "execute_result"
    }
   ],
   "source": [
    "%matplotlib inline\n",
    "import numpy as np\n",
    "import pandas as pd\n",
    "import matplotlib.pyplot as plt\n",
    "from scipy import stats\n",
    "import math\n",
    "\n",
    "# csvからデータの読み込み(先頭行はヘッダーとして認識、num列は不要のため削除)\n",
    "df_1 = pd.read_csv('./data/chapter5-1.csv').drop('num', axis=1)\n",
    "\n",
    "# 列を店単位にする(これまでは行が店単位だった)\n",
    "mean_var_list = pd.concat([df_1.mean(), df_1.var(ddof=0)], axis=1).T\n",
    "mean_var_list.index = ['mean', 'var']\n",
    "mean_var_list"
   ]
  }
 ],
 "metadata": {
  "kernelspec": {
   "display_name": "Python [conda env:jupyter]",
   "language": "python",
   "name": "conda-env-jupyter-py"
  },
  "language_info": {
   "codemirror_mode": {
    "name": "ipython",
    "version": 3
   },
   "file_extension": ".py",
   "mimetype": "text/x-python",
   "name": "python",
   "nbconvert_exporter": "python",
   "pygments_lexer": "ipython3",
   "version": "3.5.2"
  }
 },
 "nbformat": 4,
 "nbformat_minor": 1
}
