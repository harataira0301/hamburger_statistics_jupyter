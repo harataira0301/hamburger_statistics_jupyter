{
 "cells": [
  {
   "cell_type": "markdown",
   "metadata": {},
   "source": [
    "# 5.　t検定（対応あり）\n",
    "\n",
    "## 5.1　１人に２種類を評価してもらう\n",
    "\n",
    "- URL : http://kogolab.chillout.jp/elearn/hamburger/chap5/sec1.html\n",
    "- テーマ\n",
    "   1. これまでの復習\n",
    "    - csvファイルの読み込み\n",
    "    - 統計量の算出(平均値、標本分散)\n",
    "    - 転置行列への変換"
   ]
  },
  {
   "cell_type": "code",
   "execution_count": 1,
   "metadata": {
    "collapsed": false
   },
   "outputs": [
    {
     "data": {
      "text/html": [
       "<div>\n",
       "<table border=\"1\" class=\"dataframe\">\n",
       "  <thead>\n",
       "    <tr style=\"text-align: right;\">\n",
       "      <th></th>\n",
       "      <th>wakwak</th>\n",
       "      <th>mogmog</th>\n",
       "    </tr>\n",
       "  </thead>\n",
       "  <tbody>\n",
       "    <tr>\n",
       "      <th>mean</th>\n",
       "      <td>76.875000</td>\n",
       "      <td>81.2500</td>\n",
       "    </tr>\n",
       "    <tr>\n",
       "      <th>var</th>\n",
       "      <td>43.359375</td>\n",
       "      <td>35.9375</td>\n",
       "    </tr>\n",
       "  </tbody>\n",
       "</table>\n",
       "</div>"
      ],
      "text/plain": [
       "         wakwak   mogmog\n",
       "mean  76.875000  81.2500\n",
       "var   43.359375  35.9375"
      ]
     },
     "execution_count": 1,
     "metadata": {},
     "output_type": "execute_result"
    }
   ],
   "source": [
    "%matplotlib inline\n",
    "import numpy as np\n",
    "import pandas as pd\n",
    "import matplotlib.pyplot as plt\n",
    "from scipy import stats\n",
    "import math\n",
    "\n",
    "# csvからデータの読み込み(先頭行はヘッダーとして認識、num列は不要のため削除)\n",
    "df_1 = pd.read_csv('./data/chapter5-1.csv').drop('num', axis=1)\n",
    "\n",
    "# 列を店単位にする(これまでは行が店単位だった)\n",
    "mean_var_list = pd.concat([df_1.mean(), df_1.var(ddof=0)], axis=1).T\n",
    "mean_var_list.index = ['mean', 'var']\n",
    "mean_var_list"
   ]
  },
  {
   "cell_type": "markdown",
   "metadata": {},
   "source": [
    "## 5.2　対応があるとは？\n",
    "\n",
    "- URL : http://kogolab.chillout.jp/elearn/hamburger/chap5/sec2.html\n",
    "- テーマ\n",
    "   1. 読み物オンリーページ\n",
    "     - 「対応のあるt検定」と「対応の無いt検定」について\n",
    "     - 「対応」とは何か。\n",
    "    \n",
    "## 5.3　対応のあるt検定\n",
    "\n",
    "- URL : http://kogolab.chillout.jp/elearn/hamburger/chap5/sec3.html\n",
    "- テーマ\n",
    "   1. 「対応のあるt検定」の実施\n",
    "    - t値とp値を算出する\n",
    "    - 算出にはscipy.stats.ttest_relを使用する\n",
    "- その他\n",
    "    - 検定対象となる2つの母集団が対応している場合は「ttest_rel」を使用する。\n",
    "        - 今回、mogmog/wakwak共に同じ集団が評価している\n",
    "    - chapter4では2つの母集団が対応していなかった。\n",
    "        - chapter4ではmogmog/wakwakで評価していた集団が異なっていた"
   ]
  },
  {
   "cell_type": "code",
   "execution_count": 2,
   "metadata": {
    "collapsed": false
   },
   "outputs": [
    {
     "name": "stdout",
     "output_type": "stream",
     "text": [
      "t_val =  2.96561491008\n",
      "p_val =  0.0209375702069\n",
      "結論 ： 帰無仮説を棄却する(有意な差が有る)\n"
     ]
    }
   ],
   "source": [
    "# 有意水準指定\n",
    "t_alpha_bt_1 = 0.05\n",
    "\n",
    "# t検定(対応有り)\n",
    "t_val_1, p_val_ttest_1 = stats.ttest_rel(df_1.mogmog, df_1.wakwak)\n",
    "\n",
    "# 表示\n",
    "print('t_val = ', t_val_1)\n",
    "print('p_val = ', p_val_ttest_1)\n",
    "\n",
    "# 判定\n",
    "if (p_val_ttest_1 < t_alpha_bt_1) :\n",
    "    print('結論 ： 帰無仮説を棄却する(有意な差が有る)')\n",
    "else :\n",
    "    print('結論 ： 帰無仮説を棄却しない(有意な差は無い)')"
   ]
  },
  {
   "cell_type": "markdown",
   "metadata": {},
   "source": [
    "    \n",
    "## 5.4　実践編：新作バーガー！\n",
    "\n",
    "- URL : http://kogolab.chillout.jp/elearn/hamburger/chap5/sec4.html\n",
    "- テーマ\n",
    "   1. 「対応のあるt検定」の実施(5.3と同じ)\n",
    "    - t値とp値を算出する"
   ]
  },
  {
   "cell_type": "code",
   "execution_count": 3,
   "metadata": {
    "collapsed": false
   },
   "outputs": [
    {
     "name": "stdout",
     "output_type": "stream",
     "text": [
      "t_val =  -3.585685828\n",
      "p_val =  0.00587827548992\n",
      "結論 ： 帰無仮説を棄却する(有意な差が有る)\n"
     ]
    }
   ],
   "source": [
    "# csvからデータの読み込み\n",
    "df_2 = pd.read_csv('./data/chapter5-4.csv').drop('num', axis=1)\n",
    "\n",
    "# 有意水準指定\n",
    "t_alpha_bt_2 = 0.05\n",
    "\n",
    "# t検定(対応有り)\n",
    "t_val_2, p_val_ttest_2 = stats.ttest_rel(df_2.before, df_2.after)\n",
    "\n",
    "# 表示\n",
    "print('t_val = ', t_val_2)\n",
    "print('p_val = ', p_val_ttest_2)\n",
    "\n",
    "# 判定\n",
    "if (p_val_ttest_2 < t_alpha_bt_2) :\n",
    "    print('結論 ： 帰無仮説を棄却する(有意な差が有る)')\n",
    "else :\n",
    "    print('結論 ： 帰無仮説を棄却しない(有意な差は無い)')"
   ]
  },
  {
   "cell_type": "markdown",
   "metadata": {},
   "source": [
    "    \n",
    "## 5.9　通過テスト\n",
    "\n",
    "- URL : http://kogolab.chillout.jp/elearn/hamburger/chap5/sec9.html\n",
    "- テーマ\n",
    "   1. 「対応のあるt検定」の実施(5.3/5.4と同じ)\n",
    "    - t値とp値を算出する"
   ]
  },
  {
   "cell_type": "code",
   "execution_count": 4,
   "metadata": {
    "collapsed": false
   },
   "outputs": [
    {
     "name": "stdout",
     "output_type": "stream",
     "text": [
      "t_val =  -1.24316312102\n",
      "p_val =  0.230680528131\n",
      "結論 ： 帰無仮説を棄却しない(有意な差は無い)\n"
     ]
    }
   ],
   "source": [
    "# csvからデータの読み込み\n",
    "df_3 = pd.read_csv('./data/chapter5-9.csv')\n",
    "\n",
    "# 有意水準指定\n",
    "t_alpha_bt_3 = 0.01\n",
    "\n",
    "# t検定(対応有り)\n",
    "t_val_3, p_val_ttest_3 = stats.ttest_rel(df_3.before, df_3.after)\n",
    "\n",
    "# 表示\n",
    "print('t_val = ', t_val_3)\n",
    "print('p_val = ', p_val_ttest_3)\n",
    "\n",
    "# 判定\n",
    "if (p_val_ttest_3 < t_alpha_bt_3) :\n",
    "    print('結論 ： 帰無仮説を棄却する(有意な差が有る)')\n",
    "else :\n",
    "    print('結論 ： 帰無仮説を棄却しない(有意な差は無い)')"
   ]
  }
 ],
 "metadata": {
  "anaconda-cloud": {},
  "kernelspec": {
   "display_name": "Python [conda env:jupyter]",
   "language": "python",
   "name": "conda-env-jupyter-py"
  },
  "language_info": {
   "codemirror_mode": {
    "name": "ipython",
    "version": 3
   },
   "file_extension": ".py",
   "mimetype": "text/x-python",
   "name": "python",
   "nbconvert_exporter": "python",
   "pygments_lexer": "ipython3",
   "version": "3.5.2"
  }
 },
 "nbformat": 4,
 "nbformat_minor": 1
}
