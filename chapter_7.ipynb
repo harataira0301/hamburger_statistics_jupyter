{
 "cells": [
  {
   "cell_type": "markdown",
   "metadata": {},
   "source": [
    "# 7. 分散分析（２要因）\n",
    "\n",
    "## 7.1　2つの要因では?\n",
    "\n",
    "- URL : http://kogolab.chillout.jp/elearn/hamburger/chap7/sec1.html\n",
    "- テーマ\n",
    "   1. 統計量算出\n",
    "       - 表として表示出来る様にフォーマットを整える"
   ]
  },
  {
   "cell_type": "code",
   "execution_count": 1,
   "metadata": {
    "collapsed": false
   },
   "outputs": [
    {
     "data": {
      "text/html": [
       "<div>\n",
       "<table border=\"1\" class=\"dataframe\">\n",
       "  <thead>\n",
       "    <tr style=\"text-align: right;\">\n",
       "      <th></th>\n",
       "      <th>crispy_hot</th>\n",
       "      <th>crispy_def</th>\n",
       "      <th>normal_hot</th>\n",
       "      <th>normal_def</th>\n",
       "    </tr>\n",
       "  </thead>\n",
       "  <tbody>\n",
       "    <tr>\n",
       "      <th>count</th>\n",
       "      <td>15.000000</td>\n",
       "      <td>15.000000</td>\n",
       "      <td>15.000000</td>\n",
       "      <td>15.000000</td>\n",
       "    </tr>\n",
       "    <tr>\n",
       "      <th>mean</th>\n",
       "      <td>79.666667</td>\n",
       "      <td>71.000000</td>\n",
       "      <td>72.666667</td>\n",
       "      <td>74.333333</td>\n",
       "    </tr>\n",
       "    <tr>\n",
       "      <th>var</th>\n",
       "      <td>58.222222</td>\n",
       "      <td>50.666667</td>\n",
       "      <td>56.222222</td>\n",
       "      <td>59.555556</td>\n",
       "    </tr>\n",
       "    <tr>\n",
       "      <th>std</th>\n",
       "      <td>7.630349</td>\n",
       "      <td>7.118052</td>\n",
       "      <td>7.498148</td>\n",
       "      <td>7.717225</td>\n",
       "    </tr>\n",
       "  </tbody>\n",
       "</table>\n",
       "</div>"
      ],
      "text/plain": [
       "       crispy_hot  crispy_def  normal_hot  normal_def\n",
       "count   15.000000   15.000000   15.000000   15.000000\n",
       "mean    79.666667   71.000000   72.666667   74.333333\n",
       "var     58.222222   50.666667   56.222222   59.555556\n",
       "std      7.630349    7.118052    7.498148    7.717225"
      ]
     },
     "execution_count": 1,
     "metadata": {},
     "output_type": "execute_result"
    }
   ],
   "source": [
    "%matplotlib inline\n",
    "import numpy as np\n",
    "import pandas as pd\n",
    "import matplotlib.pyplot as plt\n",
    "from scipy import stats\n",
    "import math\n",
    "\n",
    "# csvからデータの読み込み\n",
    "df_1 = pd.read_csv('./data/chapter7-1.csv')\n",
    "\n",
    "# 算出した統計量を表にまとめる\n",
    "mean_var_list = pd.concat([df_1.count(), df_1.mean(), df_1.var(ddof=0), df_1.std(ddof=0)], axis=1).T\n",
    "mean_var_list.index = ['count', 'mean', 'var', 'std']\n",
    "mean_var_list\n",
    "\n",
    "# 表示\n",
    "mean_var_list\n"
   ]
  },
  {
   "cell_type": "markdown",
   "metadata": {},
   "source": [
    "## 7.2　２要因の分散分析表\n",
    "\n",
    "- URL : http://kogolab.chillout.jp/elearn/hamburger/chap7/sec2.html\n",
    "- テーマ\n",
    "   1. 統計量算出\n",
    "       - 表として表示出来る様にフォーマットを整える"
   ]
  },
  {
   "cell_type": "code",
   "execution_count": 2,
   "metadata": {
    "collapsed": false
   },
   "outputs": [
    {
     "name": "stdout",
     "output_type": "stream",
     "text": [
      "ddof (within)   =  56\n",
      "ddof (factor1)  =  1\n",
      "f_val(factor1)  =  0.837784371909\n",
      "ddof (factor2)  =  1\n",
      "f_val(factor2)  =  3.05341246291\n",
      "ddof (factor3)  =  1\n",
      "f_val(factor3)  =  6.65380811078\n"
     ]
    }
   ],
   "source": [
    "# 4列分のデータを全てまとめたデータを作成\n",
    "sum_1    = pd.concat([df_1.crispy_hot, df_1.crispy_def, df_1.normal_hot, df_1.normal_def], ignore_index=True)\n",
    "\n",
    "# さらに4つのデータフレームを作成(crispy,normal/hot,def)\n",
    "df_1_crispy =  pd.concat([df_1.crispy_hot, df_1.crispy_def], ignore_index=True)\n",
    "df_1_normal =  pd.concat([df_1.normal_hot, df_1.normal_def], ignore_index=True)\n",
    "df_1_hot    =  pd.concat([df_1.crispy_hot, df_1.normal_hot], ignore_index=True)\n",
    "df_1_def    =  pd.concat([df_1.crispy_def, df_1.normal_def], ignore_index=True)\n",
    "\n",
    "sum_1_df = pd.DataFrame({'crispy' : [df_1_crispy.count(), df_1_crispy.mean(), df_1_crispy.var(ddof=0), df_1_crispy.std(ddof=0)],\n",
    "                         'normal' : [df_1_normal.count(), df_1_normal.mean(), df_1_normal.var(ddof=0), df_1_normal.std(ddof=0)],\n",
    "                         'hot'    : [df_1_hot.count(),    df_1_hot.mean(),    df_1_hot.var(ddof=0),    df_1_hot.std(ddof=0)],\n",
    "                         'def'    : [df_1_def.count(),    df_1_def.mean(),    df_1_def.var(ddof=0),    df_1_def.std(ddof=0)],\n",
    "                         'sum'    : [sum_1.count(),       sum_1.mean(),       sum_1.var(ddof=0),       sum_1.std(ddof=0)]},\n",
    "                         index=['count', 'mean', 'var', 'std'])\n",
    "\n",
    "\n",
    "# 要因1(食感)によるズレ : crispy, normal\n",
    "res_crispy_1  = (sum_1_df['crispy']['mean'] - sum_1_df['sum']['mean']) ** 2 * sum_1_df['crispy']['count']\n",
    "res_normal_1  = (sum_1_df['normal']['mean'] - sum_1_df['sum']['mean']) ** 2 * sum_1_df['normal']['count']\n",
    "res_factor1_1 = res_crispy_1 + res_normal_1\n",
    "\n",
    "# 要因2(味付)によるズレ : hot, def\n",
    "res_hot_1     = (sum_1_df['hot']['mean'] - sum_1_df['sum']['mean']) ** 2 * sum_1_df['hot']['count']\n",
    "res_def_1     = (sum_1_df['def']['mean'] - sum_1_df['sum']['mean']) ** 2 * sum_1_df['def']['count']\n",
    "res_factor2_1 = res_hot_1 + res_def_1\n",
    "\n",
    "# 交互作用によるズレ　=　各群の平均のズレ　－　要因1によるズレ　－　要因2よるズレ\n",
    "# -> 交互作用によるズレ　＝　各群の平均のズレ　－　要因1によるズレ　－　要因2よるズレ\n",
    "sum_sq_bt_1 = []\n",
    "for i in range(0, len(df_1.columns)) :\n",
    "    sum_sq_bt_1.append((df_1.ix[:,i].mean() - sum_1.mean())**2 * len(df_1.ix[:,i]))\n",
    "\n",
    "res_factor3_1 = sum(sum_sq_bt_1) - res_factor1_1 - res_factor2_1\n",
    "\n",
    "# 残差\n",
    "sum_sq_in_1 = []\n",
    "for i in range(0, len(df_1.columns)) :\n",
    "    sum_sq_in_1.append(df_1.ix[:,i].var(ddof=0) * len(df_1.ix[:,i]))\n",
    "\n",
    "res_factor4_1 = sum(sum_sq_in_1)\n",
    "\n",
    "# 4) 自由度算出\n",
    "ddof_factor1_1  = 1  # 2(crispy, normal) - 1 = 1\n",
    "ddof_factor2_1  = 1  # 2(hot, def) - 1 = 1\n",
    "ddof_factor3_1  = 1  # 1(ddof_factor1_1) * 1(ddof_factor2_1) = 1\n",
    "ddof_factor4_1  = 56 # (15 - 1) * 4\n",
    "\n",
    "# 残差の平均平方\n",
    "fval_factor4_1 = res_factor4_1 / ddof_factor4_1\n",
    "\n",
    "# F値を算出\n",
    "fval_factor1_1 = res_factor1_1 / fval_factor4_1\n",
    "fval_factor2_1 = res_factor2_1 / fval_factor4_1\n",
    "fval_factor3_1 = res_factor3_1 / fval_factor4_1\n",
    "\n",
    "# 表示\n",
    "print('ddof (within)   = ', ddof_factor4_1)\n",
    "print('ddof (factor1)  = ', ddof_factor1_1)\n",
    "print('f_val(factor1)  = ', fval_factor1_1)\n",
    "print('ddof (factor2)  = ', ddof_factor2_1)\n",
    "print('f_val(factor2)  = ', fval_factor2_1)\n",
    "print('ddof (factor3)  = ', ddof_factor3_1)\n",
    "print('f_val(factor3)  = ', fval_factor3_1)\n"
   ]
  },
  {
   "cell_type": "markdown",
   "metadata": {},
   "source": [
    "\n",
    "## 7.3　交互作用とは?\n",
    "\n",
    "- URL : http://kogolab.chillout.jp/elearn/hamburger/chap7/sec3.html\n",
    "- テーマ\n",
    "   1. 読み物オンリーページ\n",
    "       - 7.2での結果から読み取れることの解説\n",
    "\n",
    "\n",
    "# 以下は同じことの繰り返しなので省略\n",
    "\n",
    "\n",
    "## 7.4　実践編：セットでいこう\n",
    "\n",
    "- URL : http://kogolab.chillout.jp/elearn/hamburger/chap7/sec4.html\n",
    "\n",
    "## 7.9　通過テスト\n",
    "\n",
    "- URL : http://kogolab.chillout.jp/elearn/hamburger/chap7/sec9.html\n",
    "\n",
    "\n",
    "# 7.4、7.9について\n",
    "- 一応、テストデータはcsvで作成済\n",
    "    - chapter7-4.csv、chapter7-9.csv)\n",
    "- 取り組みたいテーマ\n",
    "   1. 長いコードを短くしたい(未検討)\n",
    "       - 7.2をコピーして使えば結果は出せるものの、長くて読みにくい\n",
    "       - 何か簡単に短く書く方法は無いものか\n",
    "           - stats.f_twoway みたいなものは無さそうだし・・・\n",
    "       "
   ]
  },
  {
   "cell_type": "code",
   "execution_count": null,
   "metadata": {
    "collapsed": true
   },
   "outputs": [],
   "source": []
  }
 ],
 "metadata": {
  "kernelspec": {
   "display_name": "Python [conda env:jupyter]",
   "language": "python",
   "name": "conda-env-jupyter-py"
  },
  "language_info": {
   "codemirror_mode": {
    "name": "ipython",
    "version": 3
   },
   "file_extension": ".py",
   "mimetype": "text/x-python",
   "name": "python",
   "nbconvert_exporter": "python",
   "pygments_lexer": "ipython3",
   "version": "3.5.2"
  }
 },
 "nbformat": 4,
 "nbformat_minor": 1
}
