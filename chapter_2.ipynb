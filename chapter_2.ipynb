{
 "cells": [
  {
   "cell_type": "markdown",
   "metadata": {},
   "source": [
    "# 2. 信頼区間\n",
    "\n",
    "## 2.1　平均的ポテトを推定する\n",
    "\n",
    "- URL : http://kogolab.chillout.jp/elearn/hamburger/chap2/sec1.html\n",
    "- テーマ\n",
    "   1. 前章の復習\n",
    "    - csvファイルの読み込み\n",
    "    - DataFrameの取扱い\n",
    "    - 統計量の算出\n",
    "        - csvのデータ列から直接各種統計量を算出＆配列に入れて表示\n",
    "        - データフレームに入れて表で表示する(前章までの方法)\n",
    "- その他\n",
    "    - 不偏分散を求める演習が2.2章にあるが、まとめて以下のコードで算出する"
   ]
  },
  {
   "cell_type": "code",
   "execution_count": 6,
   "metadata": {
    "collapsed": false
   },
   "outputs": [
    {
     "data": {
      "text/html": [
       "<div>\n",
       "<table border=\"1\" class=\"dataframe\">\n",
       "  <thead>\n",
       "    <tr style=\"text-align: right;\">\n",
       "      <th></th>\n",
       "      <th>p_mean</th>\n",
       "      <th>p_var</th>\n",
       "      <th>p_var_unbiased</th>\n",
       "      <th>p_std</th>\n",
       "      <th>p_std_unbiased</th>\n",
       "    </tr>\n",
       "  </thead>\n",
       "  <tbody>\n",
       "    <tr>\n",
       "      <th>p_num</th>\n",
       "      <td>49.2</td>\n",
       "      <td>3.16</td>\n",
       "      <td>3.511111</td>\n",
       "      <td>1.777639</td>\n",
       "      <td>1.873796</td>\n",
       "    </tr>\n",
       "  </tbody>\n",
       "</table>\n",
       "</div>"
      ],
      "text/plain": [
       "       p_mean  p_var  p_var_unbiased     p_std  p_std_unbiased\n",
       "p_num    49.2   3.16        3.511111  1.777639        1.873796"
      ]
     },
     "execution_count": 6,
     "metadata": {},
     "output_type": "execute_result"
    }
   ],
   "source": [
    "%matplotlib inline\n",
    "import numpy as np\n",
    "import pandas as pd\n",
    "import matplotlib.pyplot as plt\n",
    "from scipy import stats\n",
    "import math\n",
    "\n",
    "# csvからデータの読み込み & sample_no行削除\n",
    "# p : potato\n",
    "dataset_p_num = pd.read_csv('./data/chapter2-1.csv', names=('sample_no', 'p_num') )\n",
    "dataset_p_num = dataset_p_num.drop('sample_no', axis=1)\n",
    "\n",
    "# 統計量算出：poteto_num行から直接各統計量を算出＆配列で表示\n",
    "#p_mean = dataset_p_num.p_num.mean()\n",
    "#p_var  = dataset_p_num.p_num.var(ddof=0)\n",
    "#p_var_unbiased  = dataset_p_num.p_num.var(ddof=1)\n",
    "#p_std  = dataset_p_num.p_num.std(ddof=0)\n",
    "#p_std_unbiased  = dataset_p_num.p_num.std(ddof=1)\n",
    "#[p_mean, p_var, p_var_unbiased, p_std]\n",
    "\n",
    "# 統計量算出：データフレームに入れる場合\n",
    "p_mean = dataset_p_num.mean()\n",
    "p_var  = dataset_p_num.var(ddof=0)\n",
    "p_var_unbiased  = dataset_p_num.var(ddof=1)\n",
    "p_std  = dataset_p_num.std(ddof=0)\n",
    "p_std_unbiased  = dataset_p_num.std(ddof=1)\n",
    "\n",
    "# 上で求めた統計量を纏めて表にする\n",
    "p_stat_list = pd.concat([p_mean, p_var, p_var_unbiased, p_std, p_std_unbiased], axis=1)\n",
    "p_stat_list.columns = ['p_mean', 'p_var', 'p_var_unbiased', 'p_std', 'p_std_unbiased']\n",
    "p_stat_list"
   ]
  },
  {
   "cell_type": "markdown",
   "metadata": {},
   "source": [
    "## 2.2　母集団の平均と分散を推定する\n",
    "- URL : http://kogolab.chillout.jp/elearn/hamburger/chap2/sec2.html\n",
    "- テーマ\n",
    "   1. 読み物オンリーページ\n",
    "   \n",
    "## 2.3　区間推定／信頼区間\n",
    "- URL : http://kogolab.chillout.jp/elearn/hamburger/chap2/sec3.html\n",
    "- テーマ\n",
    "   1. 信頼区間を求める\n",
    "       - 平均値、標本標準誤差、データ数、信頼区間を入力することで、最大値と最小値を算出する\n",
    "   2. sqrtの使用\n",
    "       - mathを読み込む必要有り\n",
    "- コードの参考URL : http://www.sat.t.u-tokyo.ac.jp/~oku/20160217/memo.html"
   ]
  },
  {
   "cell_type": "code",
   "execution_count": 3,
   "metadata": {
    "collapsed": false
   },
   "outputs": [
    {
     "name": "stdout",
     "output_type": "stream",
     "text": [
      "mean value: p_num    49.2\n",
      "dtype: float64\n",
      "confidence interval: [ 47.27432199] [ 51.12567801]\n"
     ]
    }
   ],
   "source": [
    "# 平均値指定\n",
    "mean_val = p_mean\n",
    "\n",
    "# 標本標準誤差を算出\n",
    "# = 不偏標準偏差 / sqrt(データ数)\n",
    "sem_val  = (p_std_unbiased / math.sqrt(len(dataset_p_num)))\n",
    "\n",
    "# 自由度(サンプルサイズから1引いたもの)を指定\n",
    "# ここでは、データフレームの行数-1を使用する\n",
    "length   = len(dataset_p_num)-1\n",
    "\n",
    "# 信頼区間を設定\n",
    "alpha    = 0.99\n",
    "\n",
    "# 上記設定での最小値と最大値を算出\n",
    "min, max       = stats.t.interval(alpha, length, loc=mean_val, scale=sem_val)\n",
    "\n",
    "# 結果を出力\n",
    "print('mean value:', mean_val)\n",
    "print('confidence interval:',  min, max)"
   ]
  },
  {
   "cell_type": "markdown",
   "metadata": {},
   "source": [
    "## 2.4　実践編：平均的チキンを推定する\n",
    "- URL : http://kogolab.chillout.jp/elearn/hamburger/chap2/sec4.html\n",
    "- テーマ\n",
    "   1. 信頼区間を求める(実践編)\n",
    "       - 入力データ読み込みから信頼区間算出までを通して実施する"
   ]
  },
  {
   "cell_type": "code",
   "execution_count": 4,
   "metadata": {
    "collapsed": false
   },
   "outputs": [
    {
     "name": "stdout",
     "output_type": "stream",
     "text": [
      "mean value: 550.375\n",
      "confidence interval: (524.25467907616235, 576.49532092383765)\n"
     ]
    }
   ],
   "source": [
    "# csvからデータの読み込み & sample_no行削除\n",
    "# c : chicken\n",
    "dataset_c_weight = pd.read_csv('./data/chapter2-4.csv', names=('sample_no', 'c_weight') )\n",
    "dataset_c_weight = dataset_c_weight.drop('sample_no', axis=1)\n",
    "\n",
    "# 信頼区間算出に必要な統計量を算出\n",
    "c_weight_mean   = dataset_c_weight.c_weight.mean()\n",
    "c_weight_sem    = dataset_c_weight.c_weight.std(ddof=1) / math.sqrt(len(dataset_c_weight))\n",
    "c_weight_length = len(dataset_c_weight)-1\n",
    "c_weight_alpha  = 0.99\n",
    "\n",
    "# 信頼区間算出\n",
    "c_weight_list = stats.t.interval(c_weight_alpha, c_weight_length, loc=c_weight_mean, scale=c_weight_sem)\n",
    "\n",
    "# 結果を出力\n",
    "print('mean value:', c_weight_mean)\n",
    "print('confidence interval:', c_weight_list)"
   ]
  },
  {
   "cell_type": "markdown",
   "metadata": {},
   "source": [
    "## 2.9　通過テスト\n",
    "- URL : http://kogolab.chillout.jp/elearn/hamburger/chap2/sec9.html\n",
    "- テーマ\n",
    "   1. 平均値と不偏分散から信頼区間を求める\n",
    "       - stats.t.intervalを使用する\n",
    "       - 標本標準誤差は自力で求める\n",
    "   2. 統計学の言葉の使い方(テスト)\n",
    "       1. 受験した全員のデータのことを統計学の言葉でなんと呼ぶか。\n",
    "           - 母集団\n",
    "       2. 統計処理をする500人分のデータのことを統計学の言葉でなんと呼ぶか。\n",
    "           - 標本\n",
    "       3. 500人分のデータをでたらめに選ぶことを統計学の言葉でなんと呼ぶか。\n",
    "           - 無作為抽出\n",
    "       4. 500人分のデータをでたらめに選ぶと、だいたいどのような度数分布の形をすると予想できるか。\n",
    "           - 正規分布"
   ]
  },
  {
   "cell_type": "code",
   "execution_count": 5,
   "metadata": {
    "collapsed": false
   },
   "outputs": [
    {
     "name": "stdout",
     "output_type": "stream",
     "text": [
      "mean value: 65\n",
      "confidence interval: (64.319397774337105, 65.680602225662895)\n"
     ]
    }
   ],
   "source": [
    "# 信頼区間算出に必要な統計量を算出\n",
    "# データ数=500 / 平均値=65 / 不偏分散=60\n",
    "practice_alpha = 0.95\n",
    "practice_length = 500-1\n",
    "practice_sem = math.sqrt(60/500)\n",
    "practice_mean = 65\n",
    "\n",
    "# 信頼区間算出\n",
    "practice_list = stats.t.interval(practice_alpha, practice_length, loc=practice_mean, scale=practice_sem)\n",
    "\n",
    "# 結果を出力\n",
    "print('mean value:', practice_mean)\n",
    "print('confidence interval:', practice_list)"
   ]
  }
 ],
 "metadata": {
  "anaconda-cloud": {},
  "kernelspec": {
   "display_name": "Python [conda env:jupyter]",
   "language": "python",
   "name": "conda-env-jupyter-py"
  },
  "language_info": {
   "codemirror_mode": {
    "name": "ipython",
    "version": 3
   },
   "file_extension": ".py",
   "mimetype": "text/x-python",
   "name": "python",
   "nbconvert_exporter": "python",
   "pygments_lexer": "ipython3",
   "version": "3.5.2"
  }
 },
 "nbformat": 4,
 "nbformat_minor": 1
}
