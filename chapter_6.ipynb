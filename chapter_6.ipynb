{
 "cells": [
  {
   "cell_type": "markdown",
   "metadata": {},
   "source": [
    "# 6. 分散分析（１要因）\n",
    "\n",
    "## 6.1　なぜt検定が使えないか\n",
    "\n",
    "- URL : http://kogolab.chillout.jp/elearn/hamburger/chap6/sec1.html\n",
    "- テーマ\n",
    "   1. 読み物オンリーページ\n",
    "       - t検定 = 2つの標本間の平均の差を調べる\n",
    "       - 3つ以上の標本間の差を調べるのに向かない事のイメージ\n",
    "\n",
    "\n",
    "## 6.2　分散分析とは\n",
    "\n",
    "- URL : http://kogolab.chillout.jp/elearn/hamburger/chap6/sec2.html\n",
    "- テーマ\n",
    "   1. これまでの復習\n",
    "    - csvファイルの読み込み\n",
    "    - 統計量の算出(平均値、標本標準偏差)\n",
    "   2. 複数データの取り扱い\n",
    "    - これまでは基本的に2つの標本データを扱ってきたが、ここでは3つ以上の列データを取り扱う\n",
    "    - 3つのデータを連結したものも使用する"
   ]
  },
  {
   "cell_type": "code",
   "execution_count": 1,
   "metadata": {
    "collapsed": false
   },
   "outputs": [
    {
     "data": {
      "text/html": [
       "<div>\n",
       "<table border=\"1\" class=\"dataframe\">\n",
       "  <thead>\n",
       "    <tr style=\"text-align: right;\">\n",
       "      <th></th>\n",
       "      <th>wakwak</th>\n",
       "      <th>mogmog</th>\n",
       "      <th>pakpak</th>\n",
       "      <th>sum</th>\n",
       "    </tr>\n",
       "  </thead>\n",
       "  <tbody>\n",
       "    <tr>\n",
       "      <th>mean</th>\n",
       "      <td>84.000000</td>\n",
       "      <td>79.500000</td>\n",
       "      <td>88.150000</td>\n",
       "      <td>83.883333</td>\n",
       "    </tr>\n",
       "    <tr>\n",
       "      <th>var</th>\n",
       "      <td>29.000000</td>\n",
       "      <td>29.750000</td>\n",
       "      <td>28.527500</td>\n",
       "      <td>41.569722</td>\n",
       "    </tr>\n",
       "    <tr>\n",
       "      <th>std</th>\n",
       "      <td>5.385165</td>\n",
       "      <td>5.454356</td>\n",
       "      <td>5.341114</td>\n",
       "      <td>6.447459</td>\n",
       "    </tr>\n",
       "  </tbody>\n",
       "</table>\n",
       "</div>"
      ],
      "text/plain": [
       "         wakwak     mogmog     pakpak        sum\n",
       "mean  84.000000  79.500000  88.150000  83.883333\n",
       "var   29.000000  29.750000  28.527500  41.569722\n",
       "std    5.385165   5.454356   5.341114   6.447459"
      ]
     },
     "execution_count": 1,
     "metadata": {},
     "output_type": "execute_result"
    }
   ],
   "source": [
    "%matplotlib inline\n",
    "import numpy as np\n",
    "import pandas as pd\n",
    "import matplotlib.pyplot as plt\n",
    "from scipy import stats\n",
    "import math\n",
    "\n",
    "# csvからデータの読み込み\n",
    "df_1 = pd.read_csv('./data/chapter6-2.csv')\n",
    "\n",
    "# 3列分のデータを全てまとめたデータを作成(ついでに平均値と標準偏差も算出)\n",
    "# そのまま3つのデータを連結すると行番号が重複するので、行番号は振りなおす(ignore_index = True)\n",
    "# データの連結が列名を使った直接指定・・・何か良い方法は無いか？\n",
    "sum_1    = pd.concat([df_1.wakwak, df_1.mogmog, df_1.pakpak], ignore_index=True)\n",
    "sum_1_df = pd.DataFrame({'sum' : [sum_1.mean(), sum_1.var(ddof=0), sum_1.std(ddof=0)]},\n",
    "                      index=['mean', 'var', 'std'])\n",
    "\n",
    "# 算出した統計量を表にまとめる\n",
    "mean_var_list = pd.concat([df_1.mean(), df_1.var(ddof=0), df_1.std(ddof=0)], axis=1).T\n",
    "mean_var_list.index = ['mean', 'var', 'std']\n",
    "mean_var_list\n",
    "\n",
    "# 表示\n",
    "df_1_stat = pd.concat([mean_var_list, sum_1_df], axis=1)\n",
    "df_1_stat"
   ]
  },
  {
   "cell_type": "markdown",
   "metadata": {},
   "source": [
    "## 6.3　分散分析をしよう\n",
    "\n",
    "- URL : http://kogolab.chillout.jp/elearn/hamburger/chap6/sec3.html\n",
    "- テーマ\n",
    "   1. 分散分析の実施\n",
    "    - 今回は一元配置分散分析に相当？\n",
    "    - 群内のズレと群間のズレに注目する\n",
    "   2. 関数の使用と地道な計算\n",
    "    - stats.f_onewayを使った場合と、地道に順を追って計算する場合の2通りで確認する\n",
    "        - 2つの計算結果が近い値になることを確認する\n",
    "   3. pythonの基本構文の使用\n",
    "    - for文、配列への追加(append)\n",
    "- その他\n",
    "    - 分散分析の参考URL\n",
    "        - http://www.shiga-med.ac.jp/~koyama/stat/com-anova.html\n",
    "        - https://mkacky.wordpress.com/2013/05/22/numpy%E3%81%A7%E5%88%86%E6%95%A3%E5%88%86%E6%9E%90/"
   ]
  },
  {
   "cell_type": "code",
   "execution_count": 2,
   "metadata": {
    "collapsed": false
   },
   "outputs": [
    {
     "name": "stdout",
     "output_type": "stream",
     "text": [
      "f_val =  12.2231101945\n",
      "p_val =  3.82482645839e-05\n"
     ]
    }
   ],
   "source": [
    "# scipyの関数を使用した場合\n",
    "f_oneway_list_1 = stats.f_oneway(df_1.wakwak, df_1.mogmog, df_1.pakpak)\n",
    "print('f_val = ', f_oneway_list_1[0])\n",
    "print('p_val = ', f_oneway_list_1[1])"
   ]
  },
  {
   "cell_type": "code",
   "execution_count": 3,
   "metadata": {
    "collapsed": false
   },
   "outputs": [
    {
     "name": "stdout",
     "output_type": "stream",
     "text": [
      "f_val(library)     =  12.2231101945\n",
      "f_val(not library) =  12.223110194494591\n"
     ]
    }
   ],
   "source": [
    "# 手計算に近い順序で確認実施\n",
    "# 1) 郡内の平方和算出\n",
    "sum_sq_in_1 = []\n",
    "for i in range(0, len(df_1.columns)) :\n",
    "    sum_sq_in_1.append(df_1.ix[:,i].var(ddof=0) * len(df_1.ix[:,i]))\n",
    "\n",
    "# 2) 群間の平方和算出\n",
    "sum_sq_bt_1 = []\n",
    "for i in range(0, len(df_1.columns)) :\n",
    "    sum_sq_bt_1.append((df_1.ix[:,i].mean() - sum_1.mean())**2 * len(df_1.ix[:,i]))\n",
    "\n",
    "# 3) 全体の平方和算出\n",
    "sum_sq_in_sum_1    = sum(sum_sq_in_1)\n",
    "sum_sq_bt_sum_1    = sum(sum_sq_bt_1)\n",
    "\n",
    "# 4) 自由度算出\n",
    "ddof_in  = (len(df_1) - 1) * len(df_1.columns)\n",
    "ddof_bt  = len(df_1.columns) - 1\n",
    "\n",
    "# 5) 平均平方算出\n",
    "mean_sq_in_1 = sum_sq_in_sum_1 / ddof_in\n",
    "mean_sq_bt_1 = sum_sq_bt_sum_1 / ddof_bt\n",
    "\n",
    "# 6) F値算出\n",
    "f_val_1 = mean_sq_bt_1 / mean_sq_in_1\n",
    "\n",
    "# 表示\n",
    "print('f_val(library)     = ', f_oneway_list_1[0])\n",
    "print('f_val(not library) = ', f_val_1)"
   ]
  },
  {
   "cell_type": "markdown",
   "metadata": {},
   "source": [
    "## 6.4　実践編：3種類のハンバーガーの比較\n",
    "\n",
    "- URL : http://kogolab.chillout.jp/elearn/hamburger/chap6/sec4.html\n",
    "- テーマ\n",
    "   1. 分散分析の実施\n",
    "    - csvファイルからデータを読み込み → 関数を使用してF値を求める"
   ]
  },
  {
   "cell_type": "code",
   "execution_count": 4,
   "metadata": {
    "collapsed": false
   },
   "outputs": [
    {
     "name": "stdout",
     "output_type": "stream",
     "text": [
      "f_val =  4.58047493404\n",
      "p_val =  0.0158680849582\n"
     ]
    }
   ],
   "source": [
    "# csvからデータの読み込み\n",
    "df_2 = pd.read_csv('./data/chapter6-4.csv')\n",
    "\n",
    "# 関数を使用してF値/p値を算出\n",
    "f_oneway_list_2 = stats.f_oneway(df_2.wakwak, df_2.mogmog, df_2.pakpak)\n",
    "print('f_val = ', f_oneway_list_2[0])\n",
    "print('p_val = ', f_oneway_list_2[1])"
   ]
  },
  {
   "cell_type": "markdown",
   "metadata": {},
   "source": [
    "## 6.4　実践編：3種類のハンバーガーの比較\n",
    "\n",
    "- URL : http://kogolab.chillout.jp/elearn/hamburger/chap6/sec4.html\n",
    "- テーマ\n",
    "   1. 分散分析の実施\n",
    "    - csvファイルからデータを読み込み → 関数を使用してF値を求める"
   ]
  },
  {
   "cell_type": "code",
   "execution_count": 5,
   "metadata": {
    "collapsed": false
   },
   "outputs": [
    {
     "name": "stdout",
     "output_type": "stream",
     "text": [
      "f_val =  5.78724488428\n",
      "p_val =  0.00602720804494\n"
     ]
    }
   ],
   "source": [
    "# csvからデータの読み込み\n",
    "df_3 = pd.read_csv('./data/chapter6-9.csv')\n",
    "\n",
    "# 関数を使用してF値/p値を算出 : 3つのデータの個数をそれぞれバラバラなので、dropna()を使用してNanを削除\n",
    "f_oneway_list_3 = stats.f_oneway(df_3.no_manga.dropna(), df_3.old_manga.dropna(), df_3.new_manga.dropna())\n",
    "print('f_val = ', f_oneway_list_3[0])\n",
    "print('p_val = ', f_oneway_list_3[1])"
   ]
  }
 ],
 "metadata": {
  "anaconda-cloud": {},
  "kernelspec": {
   "display_name": "Python [conda env:jupyter]",
   "language": "python",
   "name": "conda-env-jupyter-py"
  },
  "language_info": {
   "codemirror_mode": {
    "name": "ipython",
    "version": 3
   },
   "file_extension": ".py",
   "mimetype": "text/x-python",
   "name": "python",
   "nbconvert_exporter": "python",
   "pygments_lexer": "ipython3",
   "version": "3.5.2"
  }
 },
 "nbformat": 4,
 "nbformat_minor": 1
}
