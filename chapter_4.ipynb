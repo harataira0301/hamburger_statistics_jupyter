{
 "cells": [
  {
   "cell_type": "markdown",
   "metadata": {},
   "source": [
    "# 4. t検定（対応なし）\n",
    "\n",
    "## 4.1　ハンバーガーの味を評価する\n",
    "\n",
    "- URL : http://kogolab.chillout.jp/elearn/hamburger/chap4/sec1.html\n",
    "- テーマ\n",
    "   1. これまでの復習\n",
    "    - csvファイルの読み込み\n",
    "    - 統計量の算出(平均値、標本分散)\n",
    "    - 転置行列への変換"
   ]
  },
  {
   "cell_type": "code",
   "execution_count": 1,
   "metadata": {
    "collapsed": false
   },
   "outputs": [
    {
     "data": {
      "text/html": [
       "<div>\n",
       "<table border=\"1\" class=\"dataframe\">\n",
       "  <thead>\n",
       "    <tr style=\"text-align: right;\">\n",
       "      <th></th>\n",
       "      <th>wakwak</th>\n",
       "      <th>mogmog</th>\n",
       "    </tr>\n",
       "  </thead>\n",
       "  <tbody>\n",
       "    <tr>\n",
       "      <th>mean</th>\n",
       "      <td>76.875000</td>\n",
       "      <td>81.875000</td>\n",
       "    </tr>\n",
       "    <tr>\n",
       "      <th>var</th>\n",
       "      <td>49.609375</td>\n",
       "      <td>55.859375</td>\n",
       "    </tr>\n",
       "  </tbody>\n",
       "</table>\n",
       "</div>"
      ],
      "text/plain": [
       "         wakwak     mogmog\n",
       "mean  76.875000  81.875000\n",
       "var   49.609375  55.859375"
      ]
     },
     "execution_count": 1,
     "metadata": {},
     "output_type": "execute_result"
    }
   ],
   "source": [
    "%matplotlib inline\n",
    "import numpy as np\n",
    "import pandas as pd\n",
    "import matplotlib.pyplot as plt\n",
    "from scipy import stats\n",
    "import math\n",
    "\n",
    "# csvからデータの読み込み(先頭行はヘッダーとして認識、num列は不要のため削除)\n",
    "df_1 = pd.read_csv('./data/chapter4-1.csv').drop('num', axis=1)\n",
    "\n",
    "# 列を店単位にする(これまでは行が店単位だった)\n",
    "mean_var_list = pd.concat([df_1.mean(), df_1.var(ddof=0)], axis=1).T\n",
    "mean_var_list.index = ['mean', 'var']\n",
    "mean_var_list"
   ]
  },
  {
   "cell_type": "markdown",
   "metadata": {},
   "source": [
    "## 4.2　平均差の信頼区間\n",
    "\n",
    "- URL : http://kogolab.chillout.jp/elearn/hamburger/chap4/sec2.html\n",
    "- テーマ\n",
    "   1. 読み物オンリーページ\n",
    "    \n",
    "## 4.3　t検定\n",
    "\n",
    "- URL : http://kogolab.chillout.jp/elearn/hamburger/chap4/sec3.html\n",
    "- テーマ\n",
    "   1. t検定の実施\n",
    "    - t値とp値を算出する\n",
    "    - 算出にはscipy.stats.tを使用する\n",
    "   2. if文の使用\n",
    "    - 今まで使っていなかったので・・・試しに使ってみる\n",
    "- その他\n",
    "    - t検定は等分散であるかどうかで、使用する関数が変わる(ttest_rel = not 等分散 / ttest_ind = 等分散)\n",
    "        - 参考URL1 : http://stat.biopapyrus.net/statistic/t-test.html\n",
    "        - 参考URL2 : http://kusuri-jouhou.com/statistics/fkentei.html\n",
    "    - 2つのテストデータが等分散であるかどうかは、本来は別途「F検定」で確認する必要がある\n",
    "        - Chapter4では、ttest_indを使用する\n",
    "    - t値とp値の違いは以下の通り\n",
    "        - 参考URL : http://xica.net/ipyecaes/"
   ]
  },
  {
   "cell_type": "code",
   "execution_count": 2,
   "metadata": {
    "collapsed": false
   },
   "outputs": [
    {
     "name": "stdout",
     "output_type": "stream",
     "text": [
      "p_val(F検定) =  0.560184625468\n",
      "t_val =  1.28812237744\n",
      "p_val =  0.218587022202\n",
      "結論 ： 帰無仮説を棄却しない(有意な差は無い)\n"
     ]
    }
   ],
   "source": [
    "# F検定\n",
    "f_1 = np.var(df_1.mogmog) / np.var(df_1.wakwak)\n",
    "\n",
    "dfx_1 = len(df_1.mogmog) - 1\n",
    "dfy_1 = len(df_1.wakwak) - 1\n",
    "p_val_ftest_1 = stats.f.cdf(f_1, dfx_1, dfy_1)\n",
    "\n",
    "# p_val_ftest = 0.56 > 0.05(5%) のため、帰無仮説は棄却しない = 有意な差は無い = 等分散である とみなす\n",
    "# このため、ttest_ind (等分散である場合のt検定)を使用する\n",
    "t_val_1, p_val_ttest_1 = stats.ttest_ind(df_1.mogmog, df_1.wakwak)\n",
    "\n",
    "# 有意水準指定\n",
    "t_alpha_bt_1 = 0.05\n",
    "\n",
    "# 表示\n",
    "print('p_val(F検定) = ', p_val_ftest_1)\n",
    "\n",
    "print('t_val = ', t_val_1)\n",
    "print('p_val = ', p_val_ttest_1)\n",
    "\n",
    "if (p_val_ttest_1 < t_alpha_bt_1) :\n",
    "    print('結論 ： 帰無仮説を棄却する(有意な差が有る)')\n",
    "else :\n",
    "    print('結論 ： 帰無仮説を棄却しない(有意な差は無い)')\n"
   ]
  },
  {
   "cell_type": "markdown",
   "metadata": {},
   "source": [
    "## 4.4　実践編：ポテトの評価は？\n",
    "\n",
    "- URL : http://kogolab.chillout.jp/elearn/hamburger/chap4/sec4.html\n",
    "- テーマ\n",
    "   1. t検定の実施\n",
    "    - csvファイルの読み込みから結果の出力まで通しで実施\n",
    "- その他\n",
    "    - t値はマイナスになる場合がある。(平均値の小さい方から大きい方を引いたとき)\n",
    "        - 引数の順番を逆にすると、絶対値は変わらず正負だけ入れ替わる\n",
    "        - t分布表で結果を確認する場合は、絶対値を使用する"
   ]
  },
  {
   "cell_type": "code",
   "execution_count": 3,
   "metadata": {
    "collapsed": false
   },
   "outputs": [
    {
     "name": "stdout",
     "output_type": "stream",
     "text": [
      "t_val =  -2.46306042692\n",
      "p_val =  0.0273475658515\n",
      "結論 ： 帰無仮説を棄却しない(有意な差は無い)\n"
     ]
    }
   ],
   "source": [
    "# 有意水準指定\n",
    "t_alpha_bt_2 = 0.01\n",
    "\n",
    "# csvからデータの読み込み(先頭行はヘッダーとして認識、num列は不要のため削除)\n",
    "df_2 = pd.read_csv('./data/chapter4-4.csv').drop('num', axis=1)\n",
    "\n",
    "# t検定 : 等分散、ということになっているようなので、ttest_indを使用する\n",
    "t_val_2, p_val_ttest_2 = stats.ttest_ind(df_2.mogmog, df_2.wakwak)\n",
    "\n",
    "# 表示\n",
    "print('t_val = ', t_val_2)\n",
    "print('p_val = ', p_val_ttest_2)\n",
    "\n",
    "if (p_val_ttest_2 < t_alpha_bt_2) :\n",
    "    print('結論 ： 帰無仮説を棄却する(有意な差が有る)')\n",
    "else :\n",
    "    print('結論 ： 帰無仮説を棄却しない(有意な差は無い)')"
   ]
  },
  {
   "cell_type": "markdown",
   "metadata": {},
   "source": [
    "## 4.9　通過テスト\n",
    "\n",
    "- URL : http://kogolab.chillout.jp/elearn/hamburger/chap4/sec9.html\n",
    "- テーマ\n",
    "   1. t検定の実施\n",
    "    - csvファイルの読み込みから結果の出力まで通しで実施\n",
    "   2. データ数が異なる場合のデータフレームの取り扱い\n",
    "    - .dropna()を使うことで、Nan(データの欠損部分)を削除することが出来る"
   ]
  },
  {
   "cell_type": "code",
   "execution_count": 4,
   "metadata": {
    "collapsed": false
   },
   "outputs": [
    {
     "name": "stdout",
     "output_type": "stream",
     "text": [
      "t_val =  -1.97305018989\n",
      "p_val =  0.056205929944\n",
      "alpha =  0.01\n",
      "結論 ： 帰無仮説を棄却しない(有意な差は無い)\n"
     ]
    }
   ],
   "source": [
    "# 有意水準指定\n",
    "t_alpha_bt_3 = 0.01\n",
    "\n",
    "# csvからデータの読み込み(先頭行はヘッダーとして認識)\n",
    "df_3 = pd.read_csv('./data/chapter4-9.csv')\n",
    "\n",
    "# t検定\n",
    "# sakuraのデータは18個、momoのデータは20個あるため、sakura側は2個のデータが\"Nan\"になる\n",
    "# Nanを削除するため、.dropna()を使用する\n",
    "t_val_3, p_val_ttest_3 = stats.ttest_ind(df_3.sakura.dropna(), df_3.momo.dropna())\n",
    "\n",
    "# 表示\n",
    "print('t_val = ', t_val_3)\n",
    "print('p_val = ', p_val_ttest_3)\n",
    "print('alpha = ', t_alpha_bt_3)\n",
    "\n",
    "if (p_val_ttest_3 < t_alpha_bt_3) :\n",
    "    print('結論 ： 帰無仮説を棄却する(有意な差が有る)')\n",
    "else :\n",
    "    print('結論 ： 帰無仮説を棄却しない(有意な差は無い)')\n",
    "\n"
   ]
  }
 ],
 "metadata": {
  "anaconda-cloud": {},
  "kernelspec": {
   "display_name": "Python [conda env:jupyter]",
   "language": "python",
   "name": "conda-env-jupyter-py"
  },
  "language_info": {
   "codemirror_mode": {
    "name": "ipython",
    "version": 3
   },
   "file_extension": ".py",
   "mimetype": "text/x-python",
   "name": "python",
   "nbconvert_exporter": "python",
   "pygments_lexer": "ipython3",
   "version": "3.5.2"
  }
 },
 "nbformat": 4,
 "nbformat_minor": 1
}
